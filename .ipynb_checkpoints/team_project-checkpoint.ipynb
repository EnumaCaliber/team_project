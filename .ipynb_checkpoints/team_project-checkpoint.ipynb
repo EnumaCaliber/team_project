{
 "cells": [
  {
   "cell_type": "code",
   "execution_count": 27,
   "id": "ce53fd27-a0ea-4ff1-a73e-4fe0b2cef606",
   "metadata": {},
   "outputs": [],
   "source": [
    "library(repr)\n",
    "library(tidyverse)\n",
    "library(tidymodels)\n",
    "library(dplyr)\n",
    "library(lubridate)\n",
    "library(caret)\n",
    "options(repr.matrix.max.rows = 10)"
   ]
  },
  {
   "cell_type": "code",
   "execution_count": 28,
   "id": "39566171-27c9-4be3-b9b8-f2c3d7927302",
   "metadata": {},
   "outputs": [],
   "source": [
    "player_url <- \"https://drive.google.com/uc?export=download&id=1Mw9vW0hjTJwRWx0bDXiSpYsO3gKogaPz\"\n",
    "session_url <- \"https://drive.google.com/uc?export=download&id=14O91N5OlVkvdGxXNJUj5jIsV5RexhzbB\"\n",
    "download.file(player_url, \"data/players.csv\")\n",
    "download.file(session_url, \"data/sessions.csv\")"
   ]
  },
  {
   "cell_type": "code",
   "execution_count": 82,
   "id": "8a40abd9-60a4-47b6-938a-19dbca2c4b34",
   "metadata": {},
   "outputs": [
    {
     "name": "stderr",
     "output_type": "stream",
     "text": [
      "\u001b[1mRows: \u001b[22m\u001b[34m196\u001b[39m \u001b[1mColumns: \u001b[22m\u001b[34m9\u001b[39m\n",
      "\u001b[36m──\u001b[39m \u001b[1mColumn specification\u001b[22m \u001b[36m────────────────────────────────────────────────────────\u001b[39m\n",
      "\u001b[1mDelimiter:\u001b[22m \",\"\n",
      "\u001b[31mchr\u001b[39m (4): experience, hashedEmail, name, gender\n",
      "\u001b[32mdbl\u001b[39m (2): played_hours, age\n",
      "\u001b[33mlgl\u001b[39m (3): subscribe, individualId, organizationName\n",
      "\n",
      "\u001b[36mℹ\u001b[39m Use `spec()` to retrieve the full column specification for this data.\n",
      "\u001b[36mℹ\u001b[39m Specify the column types or set `show_col_types = FALSE` to quiet this message.\n",
      "\u001b[1mRows: \u001b[22m\u001b[34m1535\u001b[39m \u001b[1mColumns: \u001b[22m\u001b[34m5\u001b[39m\n",
      "\u001b[36m──\u001b[39m \u001b[1mColumn specification\u001b[22m \u001b[36m────────────────────────────────────────────────────────\u001b[39m\n",
      "\u001b[1mDelimiter:\u001b[22m \",\"\n",
      "\u001b[31mchr\u001b[39m (3): hashedEmail, start_time, end_time\n",
      "\u001b[32mdbl\u001b[39m (2): original_start_time, original_end_time\n",
      "\n",
      "\u001b[36mℹ\u001b[39m Use `spec()` to retrieve the full column specification for this data.\n",
      "\u001b[36mℹ\u001b[39m Specify the column types or set `show_col_types = FALSE` to quiet this message.\n"
     ]
    }
   ],
   "source": [
    "players <- read_csv(\"data/players.csv\")\n",
    "sessions <- read_csv(\"data/sessions.csv\")"
   ]
  },
  {
   "cell_type": "markdown",
   "id": "c5795c4a-b573-4f23-981d-7d09e321a655",
   "metadata": {},
   "source": [
    "at first we should combine the two tables together by using the hashedEmail\n",
    "after combine, We are not interested in hashemail, so remove this column,and got a new table named players_sessions"
   ]
  },
  {
   "cell_type": "code",
   "execution_count": 96,
   "id": "57cf13bf-3877-42b0-b12b-1ea0fafb3541",
   "metadata": {},
   "outputs": [],
   "source": [
    "players_sessions <- merge(players,sessions,by=\"hashedEmail\")  |> select(-hashedEmail)"
   ]
  },
  {
   "cell_type": "code",
   "execution_count": 95,
   "id": "b8a677d3-b394-4230-8452-88cb4173cf6a",
   "metadata": {},
   "outputs": [
    {
     "data": {
      "text/html": [
       "<table class=\"dataframe\">\n",
       "<caption>A data.frame: 429 × 13</caption>\n",
       "<thead>\n",
       "\t<tr><th scope=col>experience</th><th scope=col>subscribe</th><th scope=col>played_hours</th><th scope=col>name</th><th scope=col>gender</th><th scope=col>age</th><th scope=col>individualId</th><th scope=col>organizationName</th><th scope=col>start_time</th><th scope=col>end_time</th><th scope=col>original_start_time</th><th scope=col>original_end_time</th><th scope=col>original_hours</th></tr>\n",
       "\t<tr><th scope=col>&lt;chr&gt;</th><th scope=col>&lt;lgl&gt;</th><th scope=col>&lt;dbl&gt;</th><th scope=col>&lt;chr&gt;</th><th scope=col>&lt;chr&gt;</th><th scope=col>&lt;dbl&gt;</th><th scope=col>&lt;lgl&gt;</th><th scope=col>&lt;lgl&gt;</th><th scope=col>&lt;chr&gt;</th><th scope=col>&lt;chr&gt;</th><th scope=col>&lt;dbl&gt;</th><th scope=col>&lt;dbl&gt;</th><th scope=col>&lt;dbl&gt;</th></tr>\n",
       "</thead>\n",
       "<tbody>\n",
       "\t<tr><td>Regular</td><td>TRUE</td><td>1.5</td><td>Isaac  </td><td>Male</td><td>20</td><td>NA</td><td>NA</td><td>23/05/2024 00:22</td><td>23/05/2024 01:07</td><td>1.71642e+12</td><td>1.71643e+12</td><td>2.777778</td></tr>\n",
       "\t<tr><td>Regular</td><td>TRUE</td><td>5.6</td><td>Winslow</td><td>Male</td><td>17</td><td>NA</td><td>NA</td><td>31/08/2024 22:44</td><td>31/08/2024 23:20</td><td>1.72514e+12</td><td>1.72515e+12</td><td>2.777778</td></tr>\n",
       "\t<tr><td>Regular</td><td>TRUE</td><td>5.6</td><td>Winslow</td><td>Male</td><td>17</td><td>NA</td><td>NA</td><td>31/08/2024 03:14</td><td>31/08/2024 03:59</td><td>1.72507e+12</td><td>1.72508e+12</td><td>2.777778</td></tr>\n",
       "\t<tr><td>Regular</td><td>TRUE</td><td>5.6</td><td>Winslow</td><td>Male</td><td>17</td><td>NA</td><td>NA</td><td>30/08/2024 16:18</td><td>30/08/2024 16:38</td><td>1.72503e+12</td><td>1.72504e+12</td><td>2.777778</td></tr>\n",
       "\t<tr><td>Regular</td><td>TRUE</td><td>5.6</td><td>Winslow</td><td>Male</td><td>17</td><td>NA</td><td>NA</td><td>29/08/2024 04:08</td><td>29/08/2024 04:52</td><td>1.72490e+12</td><td>1.72491e+12</td><td>2.777778</td></tr>\n",
       "\t<tr><td>⋮</td><td>⋮</td><td>⋮</td><td>⋮</td><td>⋮</td><td>⋮</td><td>⋮</td><td>⋮</td><td>⋮</td><td>⋮</td><td>⋮</td><td>⋮</td><td>⋮</td></tr>\n",
       "\t<tr><td>Amateur </td><td>TRUE</td><td>56.1</td><td>Dana </td><td>Male</td><td>23</td><td>NA</td><td>NA</td><td>14/06/2024 03:08</td><td>14/06/2024 04:02</td><td>1.71833e+12</td><td>1.71834e+12</td><td>2.777778</td></tr>\n",
       "\t<tr><td>Amateur </td><td>TRUE</td><td>56.1</td><td>Dana </td><td>Male</td><td>23</td><td>NA</td><td>NA</td><td>12/06/2024 03:25</td><td>12/06/2024 04:45</td><td>1.71816e+12</td><td>1.71817e+12</td><td>2.777778</td></tr>\n",
       "\t<tr><td>Amateur </td><td>TRUE</td><td>56.1</td><td>Dana </td><td>Male</td><td>23</td><td>NA</td><td>NA</td><td>14/07/2024 05:19</td><td>14/07/2024 06:13</td><td>1.72093e+12</td><td>1.72094e+12</td><td>2.777778</td></tr>\n",
       "\t<tr><td>Amateur </td><td>TRUE</td><td>56.1</td><td>Dana </td><td>Male</td><td>23</td><td>NA</td><td>NA</td><td>08/07/2024 02:11</td><td>08/07/2024 02:24</td><td>1.72040e+12</td><td>1.72041e+12</td><td>2.777778</td></tr>\n",
       "\t<tr><td>Beginner</td><td>TRUE</td><td> 1.1</td><td>Caden</td><td>Male</td><td>20</td><td>NA</td><td>NA</td><td>26/04/2024 09:11</td><td>26/04/2024 10:23</td><td>1.71412e+12</td><td>1.71413e+12</td><td>2.777778</td></tr>\n",
       "</tbody>\n",
       "</table>\n"
      ],
      "text/latex": [
       "A data.frame: 429 × 13\n",
       "\\begin{tabular}{lllllllllllll}\n",
       " experience & subscribe & played\\_hours & name & gender & age & individualId & organizationName & start\\_time & end\\_time & original\\_start\\_time & original\\_end\\_time & original\\_hours\\\\\n",
       " <chr> & <lgl> & <dbl> & <chr> & <chr> & <dbl> & <lgl> & <lgl> & <chr> & <chr> & <dbl> & <dbl> & <dbl>\\\\\n",
       "\\hline\n",
       "\t Regular & TRUE & 1.5 & Isaac   & Male & 20 & NA & NA & 23/05/2024 00:22 & 23/05/2024 01:07 & 1.71642e+12 & 1.71643e+12 & 2.777778\\\\\n",
       "\t Regular & TRUE & 5.6 & Winslow & Male & 17 & NA & NA & 31/08/2024 22:44 & 31/08/2024 23:20 & 1.72514e+12 & 1.72515e+12 & 2.777778\\\\\n",
       "\t Regular & TRUE & 5.6 & Winslow & Male & 17 & NA & NA & 31/08/2024 03:14 & 31/08/2024 03:59 & 1.72507e+12 & 1.72508e+12 & 2.777778\\\\\n",
       "\t Regular & TRUE & 5.6 & Winslow & Male & 17 & NA & NA & 30/08/2024 16:18 & 30/08/2024 16:38 & 1.72503e+12 & 1.72504e+12 & 2.777778\\\\\n",
       "\t Regular & TRUE & 5.6 & Winslow & Male & 17 & NA & NA & 29/08/2024 04:08 & 29/08/2024 04:52 & 1.72490e+12 & 1.72491e+12 & 2.777778\\\\\n",
       "\t ⋮ & ⋮ & ⋮ & ⋮ & ⋮ & ⋮ & ⋮ & ⋮ & ⋮ & ⋮ & ⋮ & ⋮ & ⋮\\\\\n",
       "\t Amateur  & TRUE & 56.1 & Dana  & Male & 23 & NA & NA & 14/06/2024 03:08 & 14/06/2024 04:02 & 1.71833e+12 & 1.71834e+12 & 2.777778\\\\\n",
       "\t Amateur  & TRUE & 56.1 & Dana  & Male & 23 & NA & NA & 12/06/2024 03:25 & 12/06/2024 04:45 & 1.71816e+12 & 1.71817e+12 & 2.777778\\\\\n",
       "\t Amateur  & TRUE & 56.1 & Dana  & Male & 23 & NA & NA & 14/07/2024 05:19 & 14/07/2024 06:13 & 1.72093e+12 & 1.72094e+12 & 2.777778\\\\\n",
       "\t Amateur  & TRUE & 56.1 & Dana  & Male & 23 & NA & NA & 08/07/2024 02:11 & 08/07/2024 02:24 & 1.72040e+12 & 1.72041e+12 & 2.777778\\\\\n",
       "\t Beginner & TRUE &  1.1 & Caden & Male & 20 & NA & NA & 26/04/2024 09:11 & 26/04/2024 10:23 & 1.71412e+12 & 1.71413e+12 & 2.777778\\\\\n",
       "\\end{tabular}\n"
      ],
      "text/markdown": [
       "\n",
       "A data.frame: 429 × 13\n",
       "\n",
       "| experience &lt;chr&gt; | subscribe &lt;lgl&gt; | played_hours &lt;dbl&gt; | name &lt;chr&gt; | gender &lt;chr&gt; | age &lt;dbl&gt; | individualId &lt;lgl&gt; | organizationName &lt;lgl&gt; | start_time &lt;chr&gt; | end_time &lt;chr&gt; | original_start_time &lt;dbl&gt; | original_end_time &lt;dbl&gt; | original_hours &lt;dbl&gt; |\n",
       "|---|---|---|---|---|---|---|---|---|---|---|---|---|\n",
       "| Regular | TRUE | 1.5 | Isaac   | Male | 20 | NA | NA | 23/05/2024 00:22 | 23/05/2024 01:07 | 1.71642e+12 | 1.71643e+12 | 2.777778 |\n",
       "| Regular | TRUE | 5.6 | Winslow | Male | 17 | NA | NA | 31/08/2024 22:44 | 31/08/2024 23:20 | 1.72514e+12 | 1.72515e+12 | 2.777778 |\n",
       "| Regular | TRUE | 5.6 | Winslow | Male | 17 | NA | NA | 31/08/2024 03:14 | 31/08/2024 03:59 | 1.72507e+12 | 1.72508e+12 | 2.777778 |\n",
       "| Regular | TRUE | 5.6 | Winslow | Male | 17 | NA | NA | 30/08/2024 16:18 | 30/08/2024 16:38 | 1.72503e+12 | 1.72504e+12 | 2.777778 |\n",
       "| Regular | TRUE | 5.6 | Winslow | Male | 17 | NA | NA | 29/08/2024 04:08 | 29/08/2024 04:52 | 1.72490e+12 | 1.72491e+12 | 2.777778 |\n",
       "| ⋮ | ⋮ | ⋮ | ⋮ | ⋮ | ⋮ | ⋮ | ⋮ | ⋮ | ⋮ | ⋮ | ⋮ | ⋮ |\n",
       "| Amateur  | TRUE | 56.1 | Dana  | Male | 23 | NA | NA | 14/06/2024 03:08 | 14/06/2024 04:02 | 1.71833e+12 | 1.71834e+12 | 2.777778 |\n",
       "| Amateur  | TRUE | 56.1 | Dana  | Male | 23 | NA | NA | 12/06/2024 03:25 | 12/06/2024 04:45 | 1.71816e+12 | 1.71817e+12 | 2.777778 |\n",
       "| Amateur  | TRUE | 56.1 | Dana  | Male | 23 | NA | NA | 14/07/2024 05:19 | 14/07/2024 06:13 | 1.72093e+12 | 1.72094e+12 | 2.777778 |\n",
       "| Amateur  | TRUE | 56.1 | Dana  | Male | 23 | NA | NA | 08/07/2024 02:11 | 08/07/2024 02:24 | 1.72040e+12 | 1.72041e+12 | 2.777778 |\n",
       "| Beginner | TRUE |  1.1 | Caden | Male | 20 | NA | NA | 26/04/2024 09:11 | 26/04/2024 10:23 | 1.71412e+12 | 1.71413e+12 | 2.777778 |\n",
       "\n"
      ],
      "text/plain": [
       "    experience subscribe played_hours name    gender age individualId\n",
       "1   Regular    TRUE      1.5          Isaac   Male   20  NA          \n",
       "2   Regular    TRUE      5.6          Winslow Male   17  NA          \n",
       "3   Regular    TRUE      5.6          Winslow Male   17  NA          \n",
       "4   Regular    TRUE      5.6          Winslow Male   17  NA          \n",
       "5   Regular    TRUE      5.6          Winslow Male   17  NA          \n",
       "⋮   ⋮          ⋮         ⋮            ⋮       ⋮      ⋮   ⋮           \n",
       "425 Amateur    TRUE      56.1         Dana    Male   23  NA          \n",
       "426 Amateur    TRUE      56.1         Dana    Male   23  NA          \n",
       "427 Amateur    TRUE      56.1         Dana    Male   23  NA          \n",
       "428 Amateur    TRUE      56.1         Dana    Male   23  NA          \n",
       "429 Beginner   TRUE       1.1         Caden   Male   20  NA          \n",
       "    organizationName start_time       end_time         original_start_time\n",
       "1   NA               23/05/2024 00:22 23/05/2024 01:07 1.71642e+12        \n",
       "2   NA               31/08/2024 22:44 31/08/2024 23:20 1.72514e+12        \n",
       "3   NA               31/08/2024 03:14 31/08/2024 03:59 1.72507e+12        \n",
       "4   NA               30/08/2024 16:18 30/08/2024 16:38 1.72503e+12        \n",
       "5   NA               29/08/2024 04:08 29/08/2024 04:52 1.72490e+12        \n",
       "⋮   ⋮                ⋮                ⋮                ⋮                  \n",
       "425 NA               14/06/2024 03:08 14/06/2024 04:02 1.71833e+12        \n",
       "426 NA               12/06/2024 03:25 12/06/2024 04:45 1.71816e+12        \n",
       "427 NA               14/07/2024 05:19 14/07/2024 06:13 1.72093e+12        \n",
       "428 NA               08/07/2024 02:11 08/07/2024 02:24 1.72040e+12        \n",
       "429 NA               26/04/2024 09:11 26/04/2024 10:23 1.71412e+12        \n",
       "    original_end_time original_hours\n",
       "1   1.71643e+12       2.777778      \n",
       "2   1.72515e+12       2.777778      \n",
       "3   1.72508e+12       2.777778      \n",
       "4   1.72504e+12       2.777778      \n",
       "5   1.72491e+12       2.777778      \n",
       "⋮   ⋮                 ⋮             \n",
       "425 1.71834e+12       2.777778      \n",
       "426 1.71817e+12       2.777778      \n",
       "427 1.72094e+12       2.777778      \n",
       "428 1.72041e+12       2.777778      \n",
       "429 1.71413e+12       2.777778      "
      ]
     },
     "metadata": {},
     "output_type": "display_data"
    }
   ],
   "source": [
    "data$original_start_time <- as.POSIXct(data$original_start_time / 1000, origin = \"1970-01-01\", tz = \"GMT-8\")\n",
    "data$original_end_time <- as.POSIXct(data$original_end_time / 1000, origin = \"1970-01-01\", tz = \"GMT-8\")"
   ]
  },
  {
   "cell_type": "code",
   "execution_count": 85,
   "id": "a1f79b4c-6b5d-4c10-ba1b-a848b8d6cc0d",
   "metadata": {},
   "outputs": [],
   "source": []
  },
  {
   "cell_type": "code",
   "execution_count": 86,
   "id": "ede6a6e0-1eb2-4c10-aa46-c24cb1cbfca4",
   "metadata": {},
   "outputs": [
    {
     "data": {
      "text/html": [
       "<table class=\"dataframe\">\n",
       "<caption>A data.frame: 310 × 12</caption>\n",
       "<thead>\n",
       "\t<tr><th scope=col>experience</th><th scope=col>subscribe</th><th scope=col>played_hours</th><th scope=col>name</th><th scope=col>gender</th><th scope=col>age</th><th scope=col>individualId</th><th scope=col>organizationName</th><th scope=col>start_time</th><th scope=col>end_time</th><th scope=col>original_start_time</th><th scope=col>original_end_time</th></tr>\n",
       "\t<tr><th scope=col>&lt;chr&gt;</th><th scope=col>&lt;lgl&gt;</th><th scope=col>&lt;dbl&gt;</th><th scope=col>&lt;chr&gt;</th><th scope=col>&lt;chr&gt;</th><th scope=col>&lt;dbl&gt;</th><th scope=col>&lt;lgl&gt;</th><th scope=col>&lt;lgl&gt;</th><th scope=col>&lt;chr&gt;</th><th scope=col>&lt;chr&gt;</th><th scope=col>&lt;dbl&gt;</th><th scope=col>&lt;dbl&gt;</th></tr>\n",
       "</thead>\n",
       "<tbody>\n",
       "\t<tr><td>Amateur</td><td>TRUE</td><td>56.1</td><td>Dana</td><td>Male</td><td>23</td><td>NA</td><td>NA</td><td>03/07/2024 22:33</td><td>03/07/2024 22:38</td><td>1.72005e+12</td><td>1.72005e+12</td></tr>\n",
       "\t<tr><td>Amateur</td><td>TRUE</td><td>56.1</td><td>Dana</td><td>Male</td><td>23</td><td>NA</td><td>NA</td><td>04/08/2024 18:11</td><td>04/08/2024 18:27</td><td>1.72280e+12</td><td>1.72280e+12</td></tr>\n",
       "\t<tr><td>Amateur</td><td>TRUE</td><td>56.1</td><td>Dana</td><td>Male</td><td>23</td><td>NA</td><td>NA</td><td>17/08/2024 07:36</td><td>17/08/2024 07:42</td><td>1.72388e+12</td><td>1.72388e+12</td></tr>\n",
       "\t<tr><td>Amateur</td><td>TRUE</td><td>56.1</td><td>Dana</td><td>Male</td><td>23</td><td>NA</td><td>NA</td><td>17/06/2024 04:39</td><td>17/06/2024 04:48</td><td>1.71860e+12</td><td>1.71860e+12</td></tr>\n",
       "\t<tr><td>Amateur</td><td>TRUE</td><td>56.1</td><td>Dana</td><td>Male</td><td>23</td><td>NA</td><td>NA</td><td>01/07/2024 23:07</td><td>01/07/2024 23:14</td><td>1.71988e+12</td><td>1.71988e+12</td></tr>\n",
       "\t<tr><td>⋮</td><td>⋮</td><td>⋮</td><td>⋮</td><td>⋮</td><td>⋮</td><td>⋮</td><td>⋮</td><td>⋮</td><td>⋮</td><td>⋮</td><td>⋮</td></tr>\n",
       "\t<tr><td>Amateur</td><td>TRUE</td><td>56.1</td><td>Dana</td><td>Male</td><td>23</td><td>NA</td><td>NA</td><td>25/06/2024 06:20</td><td>25/06/2024 06:26</td><td>1.71930e+12</td><td>1.71930e+12</td></tr>\n",
       "\t<tr><td>Amateur</td><td>TRUE</td><td>56.1</td><td>Dana</td><td>Male</td><td>23</td><td>NA</td><td>NA</td><td>25/07/2024 07:38</td><td>25/07/2024 07:42</td><td>1.72189e+12</td><td>1.72189e+12</td></tr>\n",
       "\t<tr><td>Amateur</td><td>TRUE</td><td>56.1</td><td>Dana</td><td>Male</td><td>23</td><td>NA</td><td>NA</td><td>03/07/2024 06:22</td><td>03/07/2024 06:27</td><td>1.71999e+12</td><td>1.71999e+12</td></tr>\n",
       "\t<tr><td>Amateur</td><td>TRUE</td><td>56.1</td><td>Dana</td><td>Male</td><td>23</td><td>NA</td><td>NA</td><td>25/07/2024 07:32</td><td>25/07/2024 07:36</td><td>1.72189e+12</td><td>1.72189e+12</td></tr>\n",
       "\t<tr><td>Amateur</td><td>TRUE</td><td>56.1</td><td>Dana</td><td>Male</td><td>23</td><td>NA</td><td>NA</td><td>28/07/2024 15:36</td><td>28/07/2024 15:57</td><td>1.72218e+12</td><td>1.72218e+12</td></tr>\n",
       "</tbody>\n",
       "</table>\n"
      ],
      "text/latex": [
       "A data.frame: 310 × 12\n",
       "\\begin{tabular}{llllllllllll}\n",
       " experience & subscribe & played\\_hours & name & gender & age & individualId & organizationName & start\\_time & end\\_time & original\\_start\\_time & original\\_end\\_time\\\\\n",
       " <chr> & <lgl> & <dbl> & <chr> & <chr> & <dbl> & <lgl> & <lgl> & <chr> & <chr> & <dbl> & <dbl>\\\\\n",
       "\\hline\n",
       "\t Amateur & TRUE & 56.1 & Dana & Male & 23 & NA & NA & 03/07/2024 22:33 & 03/07/2024 22:38 & 1.72005e+12 & 1.72005e+12\\\\\n",
       "\t Amateur & TRUE & 56.1 & Dana & Male & 23 & NA & NA & 04/08/2024 18:11 & 04/08/2024 18:27 & 1.72280e+12 & 1.72280e+12\\\\\n",
       "\t Amateur & TRUE & 56.1 & Dana & Male & 23 & NA & NA & 17/08/2024 07:36 & 17/08/2024 07:42 & 1.72388e+12 & 1.72388e+12\\\\\n",
       "\t Amateur & TRUE & 56.1 & Dana & Male & 23 & NA & NA & 17/06/2024 04:39 & 17/06/2024 04:48 & 1.71860e+12 & 1.71860e+12\\\\\n",
       "\t Amateur & TRUE & 56.1 & Dana & Male & 23 & NA & NA & 01/07/2024 23:07 & 01/07/2024 23:14 & 1.71988e+12 & 1.71988e+12\\\\\n",
       "\t ⋮ & ⋮ & ⋮ & ⋮ & ⋮ & ⋮ & ⋮ & ⋮ & ⋮ & ⋮ & ⋮ & ⋮\\\\\n",
       "\t Amateur & TRUE & 56.1 & Dana & Male & 23 & NA & NA & 25/06/2024 06:20 & 25/06/2024 06:26 & 1.71930e+12 & 1.71930e+12\\\\\n",
       "\t Amateur & TRUE & 56.1 & Dana & Male & 23 & NA & NA & 25/07/2024 07:38 & 25/07/2024 07:42 & 1.72189e+12 & 1.72189e+12\\\\\n",
       "\t Amateur & TRUE & 56.1 & Dana & Male & 23 & NA & NA & 03/07/2024 06:22 & 03/07/2024 06:27 & 1.71999e+12 & 1.71999e+12\\\\\n",
       "\t Amateur & TRUE & 56.1 & Dana & Male & 23 & NA & NA & 25/07/2024 07:32 & 25/07/2024 07:36 & 1.72189e+12 & 1.72189e+12\\\\\n",
       "\t Amateur & TRUE & 56.1 & Dana & Male & 23 & NA & NA & 28/07/2024 15:36 & 28/07/2024 15:57 & 1.72218e+12 & 1.72218e+12\\\\\n",
       "\\end{tabular}\n"
      ],
      "text/markdown": [
       "\n",
       "A data.frame: 310 × 12\n",
       "\n",
       "| experience &lt;chr&gt; | subscribe &lt;lgl&gt; | played_hours &lt;dbl&gt; | name &lt;chr&gt; | gender &lt;chr&gt; | age &lt;dbl&gt; | individualId &lt;lgl&gt; | organizationName &lt;lgl&gt; | start_time &lt;chr&gt; | end_time &lt;chr&gt; | original_start_time &lt;dbl&gt; | original_end_time &lt;dbl&gt; |\n",
       "|---|---|---|---|---|---|---|---|---|---|---|---|\n",
       "| Amateur | TRUE | 56.1 | Dana | Male | 23 | NA | NA | 03/07/2024 22:33 | 03/07/2024 22:38 | 1.72005e+12 | 1.72005e+12 |\n",
       "| Amateur | TRUE | 56.1 | Dana | Male | 23 | NA | NA | 04/08/2024 18:11 | 04/08/2024 18:27 | 1.72280e+12 | 1.72280e+12 |\n",
       "| Amateur | TRUE | 56.1 | Dana | Male | 23 | NA | NA | 17/08/2024 07:36 | 17/08/2024 07:42 | 1.72388e+12 | 1.72388e+12 |\n",
       "| Amateur | TRUE | 56.1 | Dana | Male | 23 | NA | NA | 17/06/2024 04:39 | 17/06/2024 04:48 | 1.71860e+12 | 1.71860e+12 |\n",
       "| Amateur | TRUE | 56.1 | Dana | Male | 23 | NA | NA | 01/07/2024 23:07 | 01/07/2024 23:14 | 1.71988e+12 | 1.71988e+12 |\n",
       "| ⋮ | ⋮ | ⋮ | ⋮ | ⋮ | ⋮ | ⋮ | ⋮ | ⋮ | ⋮ | ⋮ | ⋮ |\n",
       "| Amateur | TRUE | 56.1 | Dana | Male | 23 | NA | NA | 25/06/2024 06:20 | 25/06/2024 06:26 | 1.71930e+12 | 1.71930e+12 |\n",
       "| Amateur | TRUE | 56.1 | Dana | Male | 23 | NA | NA | 25/07/2024 07:38 | 25/07/2024 07:42 | 1.72189e+12 | 1.72189e+12 |\n",
       "| Amateur | TRUE | 56.1 | Dana | Male | 23 | NA | NA | 03/07/2024 06:22 | 03/07/2024 06:27 | 1.71999e+12 | 1.71999e+12 |\n",
       "| Amateur | TRUE | 56.1 | Dana | Male | 23 | NA | NA | 25/07/2024 07:32 | 25/07/2024 07:36 | 1.72189e+12 | 1.72189e+12 |\n",
       "| Amateur | TRUE | 56.1 | Dana | Male | 23 | NA | NA | 28/07/2024 15:36 | 28/07/2024 15:57 | 1.72218e+12 | 1.72218e+12 |\n",
       "\n"
      ],
      "text/plain": [
       "    experience subscribe played_hours name gender age individualId\n",
       "1   Amateur    TRUE      56.1         Dana Male   23  NA          \n",
       "2   Amateur    TRUE      56.1         Dana Male   23  NA          \n",
       "3   Amateur    TRUE      56.1         Dana Male   23  NA          \n",
       "4   Amateur    TRUE      56.1         Dana Male   23  NA          \n",
       "5   Amateur    TRUE      56.1         Dana Male   23  NA          \n",
       "⋮   ⋮          ⋮         ⋮            ⋮    ⋮      ⋮   ⋮           \n",
       "306 Amateur    TRUE      56.1         Dana Male   23  NA          \n",
       "307 Amateur    TRUE      56.1         Dana Male   23  NA          \n",
       "308 Amateur    TRUE      56.1         Dana Male   23  NA          \n",
       "309 Amateur    TRUE      56.1         Dana Male   23  NA          \n",
       "310 Amateur    TRUE      56.1         Dana Male   23  NA          \n",
       "    organizationName start_time       end_time         original_start_time\n",
       "1   NA               03/07/2024 22:33 03/07/2024 22:38 1.72005e+12        \n",
       "2   NA               04/08/2024 18:11 04/08/2024 18:27 1.72280e+12        \n",
       "3   NA               17/08/2024 07:36 17/08/2024 07:42 1.72388e+12        \n",
       "4   NA               17/06/2024 04:39 17/06/2024 04:48 1.71860e+12        \n",
       "5   NA               01/07/2024 23:07 01/07/2024 23:14 1.71988e+12        \n",
       "⋮   ⋮                ⋮                ⋮                ⋮                  \n",
       "306 NA               25/06/2024 06:20 25/06/2024 06:26 1.71930e+12        \n",
       "307 NA               25/07/2024 07:38 25/07/2024 07:42 1.72189e+12        \n",
       "308 NA               03/07/2024 06:22 03/07/2024 06:27 1.71999e+12        \n",
       "309 NA               25/07/2024 07:32 25/07/2024 07:36 1.72189e+12        \n",
       "310 NA               28/07/2024 15:36 28/07/2024 15:57 1.72218e+12        \n",
       "    original_end_time\n",
       "1   1.72005e+12      \n",
       "2   1.72280e+12      \n",
       "3   1.72388e+12      \n",
       "4   1.71860e+12      \n",
       "5   1.71988e+12      \n",
       "⋮   ⋮                \n",
       "306 1.71930e+12      \n",
       "307 1.72189e+12      \n",
       "308 1.71999e+12      \n",
       "309 1.72189e+12      \n",
       "310 1.72218e+12      "
      ]
     },
     "metadata": {},
     "output_type": "display_data"
    }
   ],
   "source": []
  },
  {
   "cell_type": "code",
   "execution_count": null,
   "id": "05ebdfd3-d952-44f5-86e8-fd2948382a95",
   "metadata": {},
   "outputs": [],
   "source": []
  }
 ],
 "metadata": {
  "kernelspec": {
   "display_name": "R",
   "language": "R",
   "name": "ir"
  },
  "language_info": {
   "codemirror_mode": "r",
   "file_extension": ".r",
   "mimetype": "text/x-r-source",
   "name": "R",
   "pygments_lexer": "r",
   "version": "4.3.3"
  }
 },
 "nbformat": 4,
 "nbformat_minor": 5
}
