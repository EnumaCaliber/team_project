{
 "cells": [
  {
   "cell_type": "code",
   "execution_count": 27,
   "id": "ce53fd27-a0ea-4ff1-a73e-4fe0b2cef606",
   "metadata": {},
   "outputs": [],
   "source": [
    "library(repr)\n",
    "library(tidyverse)\n",
    "library(tidymodels)\n",
    "library(dplyr)\n",
    "library(lubridate)\n",
    "library(caret)\n",
    "options(repr.matrix.max.rows = 10)"
   ]
  },
  {
   "cell_type": "code",
   "execution_count": 28,
   "id": "39566171-27c9-4be3-b9b8-f2c3d7927302",
   "metadata": {},
   "outputs": [],
   "source": [
    "player_url <- \"https://drive.google.com/uc?export=download&id=1Mw9vW0hjTJwRWx0bDXiSpYsO3gKogaPz\"\n",
    "session_url <- \"https://drive.google.com/uc?export=download&id=14O91N5OlVkvdGxXNJUj5jIsV5RexhzbB\"\n",
    "download.file(player_url, \"data/players.csv\")\n",
    "download.file(session_url, \"data/sessions.csv\")"
   ]
  },
  {
   "cell_type": "code",
   "execution_count": 82,
   "id": "8a40abd9-60a4-47b6-938a-19dbca2c4b34",
   "metadata": {},
   "outputs": [
    {
     "name": "stderr",
     "output_type": "stream",
     "text": [
      "\u001b[1mRows: \u001b[22m\u001b[34m196\u001b[39m \u001b[1mColumns: \u001b[22m\u001b[34m9\u001b[39m\n",
      "\u001b[36m──\u001b[39m \u001b[1mColumn specification\u001b[22m \u001b[36m────────────────────────────────────────────────────────\u001b[39m\n",
      "\u001b[1mDelimiter:\u001b[22m \",\"\n",
      "\u001b[31mchr\u001b[39m (4): experience, hashedEmail, name, gender\n",
      "\u001b[32mdbl\u001b[39m (2): played_hours, age\n",
      "\u001b[33mlgl\u001b[39m (3): subscribe, individualId, organizationName\n",
      "\n",
      "\u001b[36mℹ\u001b[39m Use `spec()` to retrieve the full column specification for this data.\n",
      "\u001b[36mℹ\u001b[39m Specify the column types or set `show_col_types = FALSE` to quiet this message.\n",
      "\u001b[1mRows: \u001b[22m\u001b[34m1535\u001b[39m \u001b[1mColumns: \u001b[22m\u001b[34m5\u001b[39m\n",
      "\u001b[36m──\u001b[39m \u001b[1mColumn specification\u001b[22m \u001b[36m────────────────────────────────────────────────────────\u001b[39m\n",
      "\u001b[1mDelimiter:\u001b[22m \",\"\n",
      "\u001b[31mchr\u001b[39m (3): hashedEmail, start_time, end_time\n",
      "\u001b[32mdbl\u001b[39m (2): original_start_time, original_end_time\n",
      "\n",
      "\u001b[36mℹ\u001b[39m Use `spec()` to retrieve the full column specification for this data.\n",
      "\u001b[36mℹ\u001b[39m Specify the column types or set `show_col_types = FALSE` to quiet this message.\n"
     ]
    }
   ],
   "source": [
    "players <- read_csv(\"data/players.csv\")\n",
    "sessions <- read_csv(\"data/sessions.csv\")"
   ]
  },
  {
   "cell_type": "markdown",
   "id": "c5795c4a-b573-4f23-981d-7d09e321a655",
   "metadata": {},
   "source": [
    "at first we should combine the two tables together by using the hashedEmail\n",
    "after combine, We are not interested in hashemail, so remove this column,and got a new table named players_sessions"
   ]
  },
  {
   "cell_type": "code",
   "execution_count": 101,
   "id": "57cf13bf-3877-42b0-b12b-1ea0fafb3541",
   "metadata": {},
   "outputs": [],
   "source": [
    "players_sessions <- merge(players,sessions,by=\"hashedEmail\")  |> select(-hashedEmail)"
   ]
  },
  {
   "cell_type": "code",
   "execution_count": 102,
   "id": "b8a677d3-b394-4230-8452-88cb4173cf6a",
   "metadata": {},
   "outputs": [],
   "source": [
    "players_sessions$original_start_time <- as.POSIXct(players_sessions$original_start_time / 1000, origin = \"1970-01-01\", tz = \"UTC\")\n",
    "players_sessions$original_end_time <- as.POSIXct(players_sessions$original_end_time / 1000, origin = \"1970-01-01\", tz = \"UTC\")"
   ]
  },
  {
   "cell_type": "code",
   "execution_count": 103,
   "id": "a1f79b4c-6b5d-4c10-ba1b-a848b8d6cc0d",
   "metadata": {},
   "outputs": [
    {
     "data": {
      "text/html": [
       "<table class=\"dataframe\">\n",
       "<caption>A data.frame: 1535 × 12</caption>\n",
       "<thead>\n",
       "\t<tr><th scope=col>experience</th><th scope=col>subscribe</th><th scope=col>played_hours</th><th scope=col>name</th><th scope=col>gender</th><th scope=col>age</th><th scope=col>individualId</th><th scope=col>organizationName</th><th scope=col>start_time</th><th scope=col>end_time</th><th scope=col>original_start_time</th><th scope=col>original_end_time</th></tr>\n",
       "\t<tr><th scope=col>&lt;chr&gt;</th><th scope=col>&lt;lgl&gt;</th><th scope=col>&lt;dbl&gt;</th><th scope=col>&lt;chr&gt;</th><th scope=col>&lt;chr&gt;</th><th scope=col>&lt;dbl&gt;</th><th scope=col>&lt;lgl&gt;</th><th scope=col>&lt;lgl&gt;</th><th scope=col>&lt;chr&gt;</th><th scope=col>&lt;chr&gt;</th><th scope=col>&lt;dttm&gt;</th><th scope=col>&lt;dttm&gt;</th></tr>\n",
       "</thead>\n",
       "<tbody>\n",
       "\t<tr><td>Regular </td><td> TRUE</td><td>1.5</td><td>Isaac  </td><td>Male</td><td>20</td><td>NA</td><td>NA</td><td>23/05/2024 00:22</td><td>23/05/2024 01:07</td><td>2024-05-22 23:20:00</td><td>2024-05-23 02:06:40</td></tr>\n",
       "\t<tr><td>Regular </td><td> TRUE</td><td>1.5</td><td>Isaac  </td><td>Male</td><td>20</td><td>NA</td><td>NA</td><td>22/05/2024 23:12</td><td>23/05/2024 00:13</td><td>2024-05-22 23:20:00</td><td>2024-05-22 23:20:00</td></tr>\n",
       "\t<tr><td>Pro     </td><td>FALSE</td><td>0.4</td><td>Lyra   </td><td>Male</td><td>21</td><td>NA</td><td>NA</td><td>28/06/2024 04:28</td><td>28/06/2024 04:58</td><td>2024-06-28 04:46:40</td><td>2024-06-28 04:46:40</td></tr>\n",
       "\t<tr><td>Beginner</td><td> TRUE</td><td>0.1</td><td>Osiris </td><td>Male</td><td>17</td><td>NA</td><td>NA</td><td>19/09/2024 21:01</td><td>19/09/2024 21:12</td><td>2024-09-19 21:06:40</td><td>2024-09-19 21:06:40</td></tr>\n",
       "\t<tr><td>Regular </td><td> TRUE</td><td>5.6</td><td>Winslow</td><td>Male</td><td>17</td><td>NA</td><td>NA</td><td>30/08/2024 03:40</td><td>30/08/2024 04:04</td><td>2024-08-30 03:53:20</td><td>2024-08-30 03:53:20</td></tr>\n",
       "\t<tr><td>⋮</td><td>⋮</td><td>⋮</td><td>⋮</td><td>⋮</td><td>⋮</td><td>⋮</td><td>⋮</td><td>⋮</td><td>⋮</td><td>⋮</td><td>⋮</td></tr>\n",
       "\t<tr><td>Amateur </td><td>TRUE</td><td>56.1</td><td>Dana  </td><td>Male</td><td>23</td><td>NA</td><td>NA</td><td>03/07/2024 06:22</td><td>03/07/2024 06:27</td><td>2024-07-03 07:00:00</td><td>2024-07-03 07:00:00</td></tr>\n",
       "\t<tr><td>Amateur </td><td>TRUE</td><td>56.1</td><td>Dana  </td><td>Male</td><td>23</td><td>NA</td><td>NA</td><td>25/07/2024 07:32</td><td>25/07/2024 07:36</td><td>2024-07-25 06:46:40</td><td>2024-07-25 06:46:40</td></tr>\n",
       "\t<tr><td>Amateur </td><td>TRUE</td><td>56.1</td><td>Dana  </td><td>Male</td><td>23</td><td>NA</td><td>NA</td><td>28/07/2024 15:36</td><td>28/07/2024 15:57</td><td>2024-07-28 15:20:00</td><td>2024-07-28 15:20:00</td></tr>\n",
       "\t<tr><td>Amateur </td><td>TRUE</td><td> 0.1</td><td>Fatima</td><td>Male</td><td>17</td><td>NA</td><td>NA</td><td>14/09/2024 15:33</td><td>14/09/2024 15:42</td><td>2024-09-14 16:06:40</td><td>2024-09-14 16:06:40</td></tr>\n",
       "\t<tr><td>Beginner</td><td>TRUE</td><td> 1.1</td><td>Caden </td><td>Male</td><td>20</td><td>NA</td><td>NA</td><td>26/04/2024 09:11</td><td>26/04/2024 10:23</td><td>2024-04-26 08:26:40</td><td>2024-04-26 11:13:20</td></tr>\n",
       "</tbody>\n",
       "</table>\n"
      ],
      "text/latex": [
       "A data.frame: 1535 × 12\n",
       "\\begin{tabular}{llllllllllll}\n",
       " experience & subscribe & played\\_hours & name & gender & age & individualId & organizationName & start\\_time & end\\_time & original\\_start\\_time & original\\_end\\_time\\\\\n",
       " <chr> & <lgl> & <dbl> & <chr> & <chr> & <dbl> & <lgl> & <lgl> & <chr> & <chr> & <dttm> & <dttm>\\\\\n",
       "\\hline\n",
       "\t Regular  &  TRUE & 1.5 & Isaac   & Male & 20 & NA & NA & 23/05/2024 00:22 & 23/05/2024 01:07 & 2024-05-22 23:20:00 & 2024-05-23 02:06:40\\\\\n",
       "\t Regular  &  TRUE & 1.5 & Isaac   & Male & 20 & NA & NA & 22/05/2024 23:12 & 23/05/2024 00:13 & 2024-05-22 23:20:00 & 2024-05-22 23:20:00\\\\\n",
       "\t Pro      & FALSE & 0.4 & Lyra    & Male & 21 & NA & NA & 28/06/2024 04:28 & 28/06/2024 04:58 & 2024-06-28 04:46:40 & 2024-06-28 04:46:40\\\\\n",
       "\t Beginner &  TRUE & 0.1 & Osiris  & Male & 17 & NA & NA & 19/09/2024 21:01 & 19/09/2024 21:12 & 2024-09-19 21:06:40 & 2024-09-19 21:06:40\\\\\n",
       "\t Regular  &  TRUE & 5.6 & Winslow & Male & 17 & NA & NA & 30/08/2024 03:40 & 30/08/2024 04:04 & 2024-08-30 03:53:20 & 2024-08-30 03:53:20\\\\\n",
       "\t ⋮ & ⋮ & ⋮ & ⋮ & ⋮ & ⋮ & ⋮ & ⋮ & ⋮ & ⋮ & ⋮ & ⋮\\\\\n",
       "\t Amateur  & TRUE & 56.1 & Dana   & Male & 23 & NA & NA & 03/07/2024 06:22 & 03/07/2024 06:27 & 2024-07-03 07:00:00 & 2024-07-03 07:00:00\\\\\n",
       "\t Amateur  & TRUE & 56.1 & Dana   & Male & 23 & NA & NA & 25/07/2024 07:32 & 25/07/2024 07:36 & 2024-07-25 06:46:40 & 2024-07-25 06:46:40\\\\\n",
       "\t Amateur  & TRUE & 56.1 & Dana   & Male & 23 & NA & NA & 28/07/2024 15:36 & 28/07/2024 15:57 & 2024-07-28 15:20:00 & 2024-07-28 15:20:00\\\\\n",
       "\t Amateur  & TRUE &  0.1 & Fatima & Male & 17 & NA & NA & 14/09/2024 15:33 & 14/09/2024 15:42 & 2024-09-14 16:06:40 & 2024-09-14 16:06:40\\\\\n",
       "\t Beginner & TRUE &  1.1 & Caden  & Male & 20 & NA & NA & 26/04/2024 09:11 & 26/04/2024 10:23 & 2024-04-26 08:26:40 & 2024-04-26 11:13:20\\\\\n",
       "\\end{tabular}\n"
      ],
      "text/markdown": [
       "\n",
       "A data.frame: 1535 × 12\n",
       "\n",
       "| experience &lt;chr&gt; | subscribe &lt;lgl&gt; | played_hours &lt;dbl&gt; | name &lt;chr&gt; | gender &lt;chr&gt; | age &lt;dbl&gt; | individualId &lt;lgl&gt; | organizationName &lt;lgl&gt; | start_time &lt;chr&gt; | end_time &lt;chr&gt; | original_start_time &lt;dttm&gt; | original_end_time &lt;dttm&gt; |\n",
       "|---|---|---|---|---|---|---|---|---|---|---|---|\n",
       "| Regular  |  TRUE | 1.5 | Isaac   | Male | 20 | NA | NA | 23/05/2024 00:22 | 23/05/2024 01:07 | 2024-05-22 23:20:00 | 2024-05-23 02:06:40 |\n",
       "| Regular  |  TRUE | 1.5 | Isaac   | Male | 20 | NA | NA | 22/05/2024 23:12 | 23/05/2024 00:13 | 2024-05-22 23:20:00 | 2024-05-22 23:20:00 |\n",
       "| Pro      | FALSE | 0.4 | Lyra    | Male | 21 | NA | NA | 28/06/2024 04:28 | 28/06/2024 04:58 | 2024-06-28 04:46:40 | 2024-06-28 04:46:40 |\n",
       "| Beginner |  TRUE | 0.1 | Osiris  | Male | 17 | NA | NA | 19/09/2024 21:01 | 19/09/2024 21:12 | 2024-09-19 21:06:40 | 2024-09-19 21:06:40 |\n",
       "| Regular  |  TRUE | 5.6 | Winslow | Male | 17 | NA | NA | 30/08/2024 03:40 | 30/08/2024 04:04 | 2024-08-30 03:53:20 | 2024-08-30 03:53:20 |\n",
       "| ⋮ | ⋮ | ⋮ | ⋮ | ⋮ | ⋮ | ⋮ | ⋮ | ⋮ | ⋮ | ⋮ | ⋮ |\n",
       "| Amateur  | TRUE | 56.1 | Dana   | Male | 23 | NA | NA | 03/07/2024 06:22 | 03/07/2024 06:27 | 2024-07-03 07:00:00 | 2024-07-03 07:00:00 |\n",
       "| Amateur  | TRUE | 56.1 | Dana   | Male | 23 | NA | NA | 25/07/2024 07:32 | 25/07/2024 07:36 | 2024-07-25 06:46:40 | 2024-07-25 06:46:40 |\n",
       "| Amateur  | TRUE | 56.1 | Dana   | Male | 23 | NA | NA | 28/07/2024 15:36 | 28/07/2024 15:57 | 2024-07-28 15:20:00 | 2024-07-28 15:20:00 |\n",
       "| Amateur  | TRUE |  0.1 | Fatima | Male | 17 | NA | NA | 14/09/2024 15:33 | 14/09/2024 15:42 | 2024-09-14 16:06:40 | 2024-09-14 16:06:40 |\n",
       "| Beginner | TRUE |  1.1 | Caden  | Male | 20 | NA | NA | 26/04/2024 09:11 | 26/04/2024 10:23 | 2024-04-26 08:26:40 | 2024-04-26 11:13:20 |\n",
       "\n"
      ],
      "text/plain": [
       "     experience subscribe played_hours name    gender age individualId\n",
       "1    Regular     TRUE     1.5          Isaac   Male   20  NA          \n",
       "2    Regular     TRUE     1.5          Isaac   Male   20  NA          \n",
       "3    Pro        FALSE     0.4          Lyra    Male   21  NA          \n",
       "4    Beginner    TRUE     0.1          Osiris  Male   17  NA          \n",
       "5    Regular     TRUE     5.6          Winslow Male   17  NA          \n",
       "⋮    ⋮          ⋮         ⋮            ⋮       ⋮      ⋮   ⋮           \n",
       "1531 Amateur    TRUE      56.1         Dana    Male   23  NA          \n",
       "1532 Amateur    TRUE      56.1         Dana    Male   23  NA          \n",
       "1533 Amateur    TRUE      56.1         Dana    Male   23  NA          \n",
       "1534 Amateur    TRUE       0.1         Fatima  Male   17  NA          \n",
       "1535 Beginner   TRUE       1.1         Caden   Male   20  NA          \n",
       "     organizationName start_time       end_time         original_start_time\n",
       "1    NA               23/05/2024 00:22 23/05/2024 01:07 2024-05-22 23:20:00\n",
       "2    NA               22/05/2024 23:12 23/05/2024 00:13 2024-05-22 23:20:00\n",
       "3    NA               28/06/2024 04:28 28/06/2024 04:58 2024-06-28 04:46:40\n",
       "4    NA               19/09/2024 21:01 19/09/2024 21:12 2024-09-19 21:06:40\n",
       "5    NA               30/08/2024 03:40 30/08/2024 04:04 2024-08-30 03:53:20\n",
       "⋮    ⋮                ⋮                ⋮                ⋮                  \n",
       "1531 NA               03/07/2024 06:22 03/07/2024 06:27 2024-07-03 07:00:00\n",
       "1532 NA               25/07/2024 07:32 25/07/2024 07:36 2024-07-25 06:46:40\n",
       "1533 NA               28/07/2024 15:36 28/07/2024 15:57 2024-07-28 15:20:00\n",
       "1534 NA               14/09/2024 15:33 14/09/2024 15:42 2024-09-14 16:06:40\n",
       "1535 NA               26/04/2024 09:11 26/04/2024 10:23 2024-04-26 08:26:40\n",
       "     original_end_time  \n",
       "1    2024-05-23 02:06:40\n",
       "2    2024-05-22 23:20:00\n",
       "3    2024-06-28 04:46:40\n",
       "4    2024-09-19 21:06:40\n",
       "5    2024-08-30 03:53:20\n",
       "⋮    ⋮                  \n",
       "1531 2024-07-03 07:00:00\n",
       "1532 2024-07-25 06:46:40\n",
       "1533 2024-07-28 15:20:00\n",
       "1534 2024-09-14 16:06:40\n",
       "1535 2024-04-26 11:13:20"
      ]
     },
     "metadata": {},
     "output_type": "display_data"
    }
   ],
   "source": [
    "players_sessions"
   ]
  },
  {
   "cell_type": "code",
   "execution_count": null,
   "id": "05ebdfd3-d952-44f5-86e8-fd2948382a95",
   "metadata": {},
   "outputs": [],
   "source": []
  }
 ],
 "metadata": {
  "kernelspec": {
   "display_name": "R",
   "language": "R",
   "name": "ir"
  },
  "language_info": {
   "codemirror_mode": "r",
   "file_extension": ".r",
   "mimetype": "text/x-r-source",
   "name": "R",
   "pygments_lexer": "r",
   "version": "4.3.3"
  }
 },
 "nbformat": 4,
 "nbformat_minor": 5
}
